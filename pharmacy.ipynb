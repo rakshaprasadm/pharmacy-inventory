{
  "nbformat": 4,
  "nbformat_minor": 0,
  "metadata": {
    "colab": {
      "name": "pharmacy.ipynb",
      "provenance": []
    },
    "kernelspec": {
      "name": "python3",
      "display_name": "Python 3"
    },
    "language_info": {
      "name": "python"
    }
  },
  "cells": [
    {
      "cell_type": "code",
      "metadata": {
        "id": "RoEVw94jHg7j"
      },
      "source": [
        "inventory = {\n",
        "    1 : {\"item\": \"Amoxicillin\" , \"price\" : 80 , \"quantity\" : 30 , \"category\": \"Antibiotic\" , \"rating\": 9},\n",
        "    2 : {\"item\": \"Azithromycin\" , \"price\" : 80 , \"quantity\" : 100 , \"category\": \"Antibiotic\" , \"rating\": 8},     \n",
        "    3 : {\"item\": \"Paracetamol\" , \"price\" : 40 , \"quantity\" : 10 , \"category\": \"Antipyretic\", \"rating\": 7}, \n",
        "    4 : {\"item\": \"Albuterol\" , \"price\" : 10 , \"quantity\" : 100 , \"category\": \"Dilator\", \"rating\": 8}, \n",
        "    5 : {\"item\": \"Amoxicillin(s)\" , \"price\" : 10 , \"quantity\" : 100 , \"category\": \"AntiBActerial\",\"rating\": 7},   \n",
        "    6 : {\"item\": \"Amoxicillin(m)\" , \"price\" : 20 , \"quantity\" : 100 , \"category\": \"AntiBActerial\", \"rating\": 8}, \n",
        "    7 : {\"item\": \"Amocixillin(l)\" , \"price\" : 40 , \"quantity\" : 50 , \"category\": \"AntiBActerial\", \"rating\": 6},   \n",
        "    8 : {\"item\": \"Cefdinir(s)\" , \"price\" : 10 , \"quantity\" : 300 , \"category\": \"AntiBacterial\", \"rating\": 5},   \n",
        "    9 : {\"item\": \"Cefdinir(s)\" , \"price\" : 10 , \"quantity\" : 300 , \"category\": \"AntiBacterial\", \"rating\": 5},   \n",
        "    10 : {\"item\": \"Cefdinir(m)\" , \"price\" : 40 , \"quantity\" : 400 , \"category\": \"AntiBacterial\",\"rating\": 4},   \n",
        "    11 : {\"item\": \"Cephalexin\" , \"price\" : 10 , \"quantity\" : 500 , \"category\": \"AntiBacterial\",\"rating\": 10},    \n",
        "    12 : {\"item\": \"Fluticasone\" , \"price\" : 1 , \"quantity\" : 1000 , \"category\": \"Steroid\", \"rating\": 9},    \n",
        "    13 : {\"item\": \"Predisolone\" , \"price\" : 1 , \"quantity\" : 1000 , \"category\": \"Steroid\",\"rating\": 8}, \n",
        "    14 : {\"item\": \"Ibuprofen\" , \"price\" : 10 , \"quantity\" : 200 , \"category\": \"AntiInflammatory\",\"rating\": 7},     \n",
        "    15 : {\"item\": \"Singulair\" , \"price\" : 100 , \"quantity\" : 100 , \"category\": \"AntiAllergent\",\"rating\": 2},      \n",
        "    16 : {\"item\": \"Trimethoprim\" , \"price\" : 5 , \"quantity\" : 200 , \"category\": \"Antboitic\",\"rating\": 3},     \n",
        "    17 : {\"item\": \"Tylenol\" , \"price\" : 70 , \"quantity\" : 80 , \"category\": \"PainKiller\",\"rating\": 4},     \n",
        "    18 : {\"item\": \"Vicodin\" , \"price\" : 30 , \"quantity\" : 80 , \"category\": \"Painkiller\",\"rating\": 5},    \n",
        "    19 : {\"item\": \"Mupirocin\" , \"price\" : 100 , \"quantity\" : 90 , \"category\": \"AntiBacterial\",\"rating\": 8},    \n",
        "    20 : {\"item\": \"Nystatin\" , \"price\" : 120 , \"quantity\" : 40 , \"category\": \"AntiFungal\",\"rating\": 9},   \n",
        "    21 : {\"item\": \"Dextromorphan(m)\" , \"price\" : 20 , \"quantity\" : 100 , \"category\": \"Antihistamine\",\"rating\": 8}, \n",
        "    22 : {\"item\": \"Dextromorphan(l)\" , \"price\" : 50 , \"quantity\" : 300 , \"category\": \"Antihistamine\",\"rating\": 10}, \n",
        "    23 : {\"item\": \"Phenilephrine\" , \"price\" : 10 , \"quantity\" : 200 , \"category\": \"Antihistamine\",\"rating\": 7},     \n",
        "    24 : {\"item\": \"Triamcinolon\" , \"price\" : 100 , \"quantity\" : 100 , \"category\": \"Steroid\",\"rating\": 2},      \n",
        "    25 : {\"item\": \"Prednison\" , \"price\" : 5 , \"quantity\" : 200 , \"category\": \"Steroid\",\"rating\": 3},     \n",
        "    26 : {\"item\": \"Hydrocortisone\" , \"price\" : 70 , \"quantity\" : 80 , \"category\": \"Steroid\",\"rating\": 4},     \n",
        "    27 : {\"item\": \"Limcee\" , \"price\" : 30 , \"quantity\" : 80 , \"category\": \"Supplement\",\"rating\": 5},    \n",
        "    28 : {\"item\": \"Becosules\" , \"price\" : 100 , \"quantity\" : 90 , \"category\": \"Supplement\",\"rating\": 8},    \n",
        "    29 : {\"item\": \"Budenoside\" , \"price\" : 120 , \"quantity\" : 40 , \"category\": \"Steroid\",\"rating\": 9},   \n",
        "    30 : {\"item\": \"Ciproflaxxin(m)\" , \"price\" : 20 , \"quantity\" : 100 , \"category\": \"Antibiotic\",\"rating\": 8}, \n",
        "    31 : {\"item\": \"Ciproflaxine(l)\" , \"price\" : 50 , \"quantity\" : 300 , \"category\": \"Antibiotic\",\"rating\": 10}\n",
        "}"
      ],
      "execution_count": 7,
      "outputs": []
    },
    {
      "cell_type": "code",
      "metadata": {
        "id": "fc9uAYgAIiNn"
      },
      "source": [
        "import json\n",
        "\n",
        "file = open('pharmacy.json', 'w')\n"
      ],
      "execution_count": 8,
      "outputs": []
    },
    {
      "cell_type": "code",
      "metadata": {
        "id": "l-kMYg7SIsJx"
      },
      "source": [
        "json.dump(inventory, file )"
      ],
      "execution_count": 9,
      "outputs": []
    },
    {
      "cell_type": "code",
      "metadata": {
        "colab": {
          "base_uri": "https://localhost:8080/"
        },
        "id": "FMMuhc_8IRno",
        "outputId": "2a03bb29-58b5-45f1-ab9f-1ae32ff35caf"
      },
      "source": [
        "ui_product = int(input(\"Enter product ID:\"))\n",
        "ui_quantity = int(input(\"Enter Quantity:\"))\n",
        "\n",
        "product = inventory.get(ui_product)\n",
        "\n",
        "if product:\n",
        "  print('product name: ',product.get('item'))\n",
        "  print('price per unit: ', product.get('price'))\n",
        "  print('amount to be paid: ', ui_quantity*product.get('price'))\n",
        "  product['quantity']-=ui_quantity\n",
        "else:\n",
        "  print('product not found')"
      ],
      "execution_count": 10,
      "outputs": [
        {
          "output_type": "stream",
          "name": "stdout",
          "text": [
            "Enter product ID:25\n",
            "Enter Quantity:6\n",
            "product name:  Prednison\n",
            "price per unit:  5\n",
            "amount to be paid:  30\n"
          ]
        }
      ]
    }
  ]
}